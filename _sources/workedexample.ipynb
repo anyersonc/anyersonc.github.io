{
 "cells": [
  {
   "cell_type": "markdown",
   "metadata": {},
   "source": [
    "# Worked example\n",
    "\n",
    "Now go to [nanoHub](https://nanohub.org/resources/36260) to simulate a pn step junction doping profile and the resulting electrostatic variables in equilibrium. (a) energy band, (b) I-V profile, (c) Charge Density, (e) Electric Field, and (f) The Inputs you used.\n",
    "\n",
    "Here is a [video](https://) to show you how to register in nanoHub so you can use the PN Junction App.\n",
    "\n",
    "\n",
    "For a given temperature and semiconductor, (11.23) allows us to compute the built-in voltage of a pn step junction from the doping concentrations\n",
    "of each side. For example, consider a silicon step junction at room temperature (300 K) with a donor concentration of 1 × 1016 cm−3 and an accepter concentration of 1 × 1016 cm−3. Plugging these values into (11.23) we have:\n",
    "\n",
    "<font size=\"5\">$$ V_{bi} = (0.0259V) \\ln{\\frac{10^{16} \\times 10^{16}}{(10^{10})^2}} = 0.7V \\tag{11.24}$$\n",
    "    \n",
    "   \n",
    "<font size=\"3\"> We have found the built-in voltage of this pn junction to be about 0.7 V which is a typical result.\n",
    "\n",
    "Screenshot simulation, and output explanation\n",
    "\n",
    "## Here are the simulations for the input data shown in graph f\n",
    "### (a) Energy Bands\n",
    "<img alt=\"Energy Bands, Energy in eV versus Position in micro m\" src=\"https://raw.githubusercontent.com/jorcristancho/EngineeringEducation/main/Figure%2011.3%20Eloctrostatics/a)%20Energy%20Bands.png\" />\n",
    "\n",
    "### (b) I-V Characteristics\n",
    "<img alt=\"Current Voltage characteristics, Current versus Gate voltage\" src=\"https://raw.githubusercontent.com/jorcristancho/EngineeringEducation/main/Figure%2011.3%20Eloctrostatics/b)%20I-V%20Characteristics.png\" />\n",
    "\n",
    "### (c) Charge density\n",
    "<img alt=\"Net Charge Density, Charge Density versus Position in micro m\" src=\"https://raw.githubusercontent.com/jorcristancho/EngineeringEducation/main/Figure%2011.3%20Eloctrostatics/c)%20Charge%20Density.png\" />\n",
    "\n",
    "### (d) Electric Potential\n",
    "<img alt=\"Potential in volts versus Position in micro m\" src=\"https://raw.githubusercontent.com/jorcristancho/EngineeringEducation/main/Figure%2011.3%20Eloctrostatics/d)%20Electric%20Potential.png\" />\n",
    "\n",
    "### (e) Electric Field\n",
    "<img alt=\"Electricstatic Field, Electric Field versus Position in micro m\" src=\"https://raw.githubusercontent.com/jorcristancho/EngineeringEducation/main/Figure%2011.3%20Eloctrostatics/e)%20Electric%20Field.png\" />\n",
    "\n",
    "### (f) Input parameters\n",
    "<img alt=\"Input parameters\" src=\"https://raw.githubusercontent.com/jorcristancho/EngineeringEducation/main/Figure%2011.3%20Eloctrostatics/f)%20Input%20parameters.png\" />"
   ]
  }
 ],
 "metadata": {
  "language_info": {
   "name": "python"
  }
 },
 "nbformat": 4,
 "nbformat_minor": 2
}
