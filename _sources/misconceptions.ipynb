{
 "cells": [
  {
   "cell_type": "markdown",
   "metadata": {},
   "source": [
    "# Misconceptions\n",
    "\n",
    "\n",
    "\n",
    "Interactive figure 11.1 a and b junction and doping\n",
    "\n",
    "## Misconceptions\n",
    "1. **Holes are electrons leaving an energy band**\n",
    "![image](https://lh3.googleusercontent.com/drive-viewer/AEYmBYRreGCYQ_tua0cJi71MNy69o_Z0WYiMOzNeSJzBH0W_ocbjPifpPSmv1fEtHYOlqGJPelWKJM5LvGIBTb6iUf14vvQW=w1910-h927)\n",
    "\n",
    "2. **Electrons barely move.**\n",
    "3. **Electrons move in the opposite direction of current (see equation).**\n",
    "    **Therefore, holes \"move\" in the same direction as the current.**\n",
    "4. **Temperature increases conductivity in semiconductors, not in metals.**\n",
    "\n",
    "\n",
    "\n"
   ]
  }
 ],
 "metadata": {
  "language_info": {
   "name": "python"
  }
 },
 "nbformat": 4,
 "nbformat_minor": 2
}
