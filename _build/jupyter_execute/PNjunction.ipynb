{
 "cells": [
  {
   "cell_type": "markdown",
   "metadata": {
    "id": "ry9FbO9K5mPH"
   },
   "source": [
    "# **Introduction to PN junctions**\n",
    "\n",
    "\n",
    "The pn junction is an essential component of nearly every semiconductor device. This chapter focuses in the description of basic principles of the pn junction functioning, to do that we will review the p-type and n-type semiconductors, its characteristics and properties, which will allow to understand its individual functioning and extend its properties to the functioning in combination.\n",
    "\n",
    "\n",
    "## **Learning Objectives**\n",
    "\n",
    "**Develop** an ability to analyze electronic circuits with diodes and transistors\n",
    "\n",
    "\n",
    "## **Objectives Week 13**\n",
    "\n",
    "*   Describe the pn junction and its main properties\n",
    "*   Describe the pn junction operation based on the appropriate band diagrams\n",
    "*   Sketch the $I$-$V$ characteristic of a $pn$ junction\n",
    "\n",
    "## **Resources available**\n",
    "\n",
    "\n",
    "*   Book Chapter 11.1\n",
    "*   Lecture 83 video\n",
    "\n",
    "\n",
    "\n",
    "Review the following video and continue with the module:\n",
    "\n",
    "<!--It is possible to include videos directly from html or using html inside the code box-->\n",
    "<iframe width=\"640\" height=\"400\" src=\"https://www.youtube.com/embed/ky5gbzsdsBw\"> </iframe>\n",
    "\n",
    "\n",
    "This is the other video in kaltura:\n",
    "\n",
    "<iframe id=\"kaltura_player\" src=\"https://cdnapisec.kaltura.com/p/983291/sp/98329100/embedIframeJs/uiconf_id/29134031/partner_id/983291?iframeembed=true&playerId=kaltura_player&entry_id=1_69hn2pek&flashvars[streamerType]=auto&amp;flashvars[localizationCode]=en&amp;flashvars[sideBarContainer.plugin]=true&amp;flashvars[sideBarContainer.position]=left&amp;flashvars[sideBarContainer.clickToClose]=true&amp;flashvars[chapters.plugin]=true&amp;flashvars[chapters.layout]=vertical&amp;flashvars[chapters.thumbnailRotator]=false&amp;flashvars[streamSelector.plugin]=true&amp;flashvars[EmbedPlayer.SpinnerTarget]=videoHolder&amp;flashvars[dualScreen.plugin]=true&amp;flashvars[Kaltura.addCrossoriginToIframe]=true&amp;&wid=1_g5og0jc2\" width=\"608\" height=\"402\" allowfullscreen webkitallowfullscreen mozAllowFullScreen allow=\"autoplay *; fullscreen *; encrypted-media *\" sandbox=\"allow-downloads allow-forms allow-same-origin allow-scripts allow-top-navigation allow-pointer-lock allow-popups allow-modals allow-orientation-lock allow-popups-to-escape-sandbox allow-presentation allow-top-navigation-by-user-activation\" frameborder=\"0\" title=\"ECE 295 - Lecture 82\"></iframe>"
   ]
  },
  {
   "cell_type": "markdown",
   "metadata": {
    "id": "egsoRTrF80AS"
   },
   "source": [
    "## Questions from the video\n",
    "\n",
    "\n",
    "1. Interpret the differences between the p-type and n-type semiconductors.\n",
    "2. Describe the behavior of current according to the electron and hole changes in both the p-type and n-type semiconductors. Remember, electrons are the ones that move and they actually don't move that far.\n",
    "3. Explain the electric field graph and the voltage in the pn juncion.\n",
    "\n",
    "\n",
    "<label for=\"freeform\">Explain the phenomena present in the previous image. What are the characteristics and elements in the figure?:</label>\n",
    "<br>\n",
    "\n",
    "<textarea id=\"freeform\" name=\"freeform\" rows=\"4\" cols=\"100\">\n",
    "Answer here:\n",
    "</textarea>\n"
   ]
  },
  {
   "cell_type": "markdown",
   "metadata": {
    "id": "MjOx4w6otxOj"
   },
   "source": [
    "Energy band simulation\n",
    "Insert image from nanoHUB open source simulator using the following paramaters\n",
    "* Temperature 300 K\n",
    "* Acceptor concentration e^15\n",
    "* Donnor concentration e^15\n",
    "* Input voltage 0.7V\n",
    "\n",
    "\n"
   ]
  },
  {
   "cell_type": "markdown",
   "metadata": {
    "id": "bUIqzj5NfgK-"
   },
   "source": [
    "## **P and N semiconductors**\n",
    "\n",
    "To begin understanding a $pn$ junction functioning and properties, we need to review the concepts of: **doping** and **diffusion** which will help us to understand the  **n-type** semiconductor and the **p-type** semiconductor.\n",
    "\n",
    "The **pn junction** works under the collaboration of the **n-type** and **p-type** **semiconductors**.\n",
    "\n",
    "\n",
    "## **Doping**\n",
    "\n",
    "We are referring to the term \"doping\" as the process which we introduce voluntarly in a ceramic material an amount of atoms of other elements different from the ceramic, called imperfections. To produce a doping process, it is neccesary a set of requiments as for example similarity in atomic, electronic and energy characteristics discussed in the lecture video.\n",
    "\n",
    "In the case of doping of a semiconductor, for example, we could imagine a pure Silicon material, if we add voluntarly atoms of Phosphorus in the Silicon array, we will produce a **n-type** doping, where the material will gain extra electrons in the positions the Phosphorus atoms find.\n",
    "\n",
    "<center>\n",
    "<img src=\"https://lh3.googleusercontent.com/drive-viewer/AKGpihYeAGRDajL0UOZVBUuIxiqJ5DUtAJD79YRJN4VUkZgIj1xcKy35Nv6UoszqMVolW7TBiyIZedeqlLrJTFwbxcyvreN--A=w1910-h927\" alt='THis is a test for the accesibility reader, if you can find this, that means that we know how to include all of those elements for the people with visual imparements.'>\n",
    "</center>\n",
    "\n",
    "\n",
    "There is a variety of ceramic materials and dopants that exist nowadays...\n",
    "\n",
    "\n",
    "## **Difussion**\n",
    "\n",
    "Difussion is modeled by Fick's first law of difussion, in which $\\mathcal{F}$ represents the flux of the quantity, $D$ represents the diffusion coefficient that depends on the element and $\\eta$ represents the concentration of the quantity. The derivative represents a gradient, a difference for making the process to happen, without a gradient, or in other words, if the gradient is zero, the total flux will be zero.\n",
    "\n",
    "$$\\mathcal{F}=-D\\frac{\\mathrm{d}\\eta}{\\mathrm{d}x} \\tag{1}$$\n",
    "\n",
    "In the case of electrons, we can model the flux of electrons by employing the same definition, however, it is important to address that it is a representation of the total movement of the electrons, and it is oversimplifying the short range of movement of electrons and its jumping between different levels.\n",
    "\n",
    "For the flux of electrons we can rewrite the equation as follows:\n",
    "\n",
    "$$\\mathcal{F}_N=-D_N\\frac{\\mathrm{d}n}{\\mathrm{d}x}  \\tag{2}$$  \n",
    "\n",
    "Whereas for the case of holes, we can rewrite the equation as follows:\n",
    "\n",
    "$$\\mathcal{F}_P=-D_P\\frac{\\mathrm{d}p}{\\mathrm{d}x}  \\tag{3}$$\n",
    "\n",
    "\n",
    "Then, if the flux of electrons is multiplied by the charge $-\\mathrm{q}$, because the electrons posses negative charge, we have the **current density** *due to* **difussion** $J_{P\\vert \\mathrm{diff}}$:\n",
    "\n",
    "$$J_{N\\vert \\mathrm{diff}}=-\\mathrm{q}\\mathcal{F}_N \\tag{4}$$\n",
    "\n",
    "And for the holes, which possesses positive charge $\\mathrm{q}$ we have:\n",
    "\n",
    "$$J_{P\\vert \\mathrm{diff}}=\\mathrm{q}\\mathcal{F}_P   \\tag{5}$$\n",
    "\n",
    "By including equation $(2)$ into $(4)$:\n",
    "\n",
    "$$J_{N\\vert \\mathrm{diff}}=\\mathrm{q}D_N\\frac{\\mathrm{d}n}{\\mathrm{d}x}  \\tag{6}$$\n",
    "\n",
    "By including equation $(3)$ into $(5)$:\n",
    "\n",
    "$$J_{P\\vert \\mathrm{diff}}=-\\mathrm{q}D_P\\frac{\\mathrm{d}p}{\\mathrm{d}x}  \\tag{6}$$\n",
    "\n",
    "\n",
    "\n",
    "## **The N-type and P-type semiconductors**\n",
    "\n",
    "## N-type semiconductors\n",
    "\n",
    "The n-type semiconductor is the material obtained by employing a n-type doping as we recall from before. We could say that after the process, the material is now filled with atoms that possesses extra electrons. That generates\n",
    "\n",
    "<center>\n",
    "<img src=\"https://lh3.googleusercontent.com/drive-viewer/AKGpihbGNs98HhmH5eYMqTRa7fr3qbg-ZxFG1qoteWTq_wi867M1XXUQJOjvaEPKWFV9GgzYbRLlgPKWyQWdhxG5UeMg8dYIBA=w1910-h927\" alt='Test number 2, can you hear this?'>\n",
    "</center>\n",
    "\n",
    "$$ J_N = J_{N \\vert diff} + J_{N \\vert drift}$$\n",
    "\n",
    "$$ J_N = q \\mu_{n}n \\mathcal{E}_x + q D_N\\frac{dn}{dx} $$\n",
    "\n",
    "## P-type semiconductors\n",
    "\n",
    "The p-type semiconductor\n",
    "\n",
    "<center>\n",
    "<img src=\"https://lh3.googleusercontent.com/drive-viewer/AKGpihY6ZOsMCaDBDIGGuvZTB7t4pPC3kCkVZ6fPZxsYTUW11djEQglr24-hVZNzkubhXsb94OtPhrExD4NHVmayo9YSEm7EMw=w1910-h927\" alt='Test number 3, This is an animation that explains how the holes move into the N semiconductor dopped.'>\n",
    "</center>\n",
    "\n",
    "Then the total current density for both electrons and holes\n",
    "\n",
    "$$ J_P = J_{P \\vert diff} + J_{P \\vert drift}$$\n",
    "\n",
    "$$ J_P = q \\mu_{p}p \\mathcal{E}_x - q D_P\\frac{dp}{dx} $$\n",
    "\n",
    "\n",
    "\n",
    "## The PN junction\n",
    "\n",
    "In this example, the $p$-type semiconductor and the $n$-type semiconductor are connected physically. As we can observe, when the semiconductors are put together, they create a region in which the holes and the electrons encounter creating a **depletion** of **charge** in that part, which is called the **Depletion Region**.\n",
    "\n",
    "<center>\n",
    "<img src=\"https://lh3.googleusercontent.com/drive-viewer/AKGpihZvi07vcnqpZzt2llrUi7umUl_Q_W4nbsnULBnZJJwh3jyZ8qyAs07lqY4S8ooypGzgzIAQrnvg7oBCVIGlvunE1cjsv0dTkz4=w1272-h950\" alt='Test number 4, This is an animation that explains how the electrons and holes move and create a mid band called depletion region, in which there is no charge and that produces a electric field and currents product of that electric field and the movement of the electrons.'>\n",
    "</center>\n",
    "\n",
    "\n",
    "<label for=\"freeform\">Explain the phenomena present in the previous image. What are the characteristics and elements in the figure?:</label>\n",
    "<br>\n",
    "\n",
    "<textarea id=\"freeform\" name=\"freeform\" rows=\"4\" cols=\"100\">\n",
    "Write here the answer:\n",
    "</textarea>"
   ]
  },
  {
   "cell_type": "markdown",
   "metadata": {
    "id": "VzgfI3357IVa"
   },
   "source": [
    "## Electrostatics\n",
    "\n",
    "\n"
   ]
  },
  {
   "cell_type": "markdown",
   "metadata": {
    "id": "bxkf_YR-uEr8"
   },
   "source": [
    "## Curves electrostatics\n",
    "\n",
    "\n",
    "## Depletion Width\n",
    "\n",
    "\n",
    "## Band Bending\n",
    "\n",
    "\n",
    "## $I$-$V$ Characteristics\n",
    "\n",
    "\n",
    "\n"
   ]
  },
  {
   "cell_type": "markdown",
   "metadata": {
    "id": "Q2J2AR_e0_5e"
   },
   "source": [
    "## **Misconceptions**\n",
    "\n",
    "\n",
    "\n",
    "**Interactive figure 11.1 a and b junction and doping**\n",
    "\n",
    "**Misconceptions**\n",
    "1. **Holes are electrons leaving an energy band**\n",
    "\n",
    "\n",
    "<center>\n",
    "<img src=\"https://lh3.googleusercontent.com/drive-viewer/AKGpihb5Utbr1hIgB_FIrgjWIzLvg7n9fH7YCg0ERhGeDXBwdPMkCZR60YvfBRk-1CUfFdqD8vwwVwALhAc32ApoJ6m0Mvuc7QtjfQ=w1272-h950\" alt='Test number 3, This is an animation that explains how the holes move into the N semiconductor dopped.'>\n",
    "</center>\n",
    "\n",
    "2. **Electrons barely move.**\n",
    "3. **Electrons move in the opposite direction of current (see equation).**\n",
    "    **Therefore, holes \"move\" in the same direction as the current.**\n",
    "4. **Temperature increases conductivity in semiconductors, not in metals.**\n",
    "\n",
    "\n",
    "\n"
   ]
  },
  {
   "cell_type": "markdown",
   "metadata": {
    "id": "SfTh_Fw11Jy0"
   },
   "source": [
    "#**Questions and exercises**\n",
    "\n",
    "\n",
    "\n",
    "\n"
   ]
  },
  {
   "cell_type": "markdown",
   "metadata": {
    "id": "FN8KvxBT2Bit"
   },
   "source": [
    "## **Worked Example**\n",
    "\n",
    "\n",
    "Example described in the book. Now use the formulas to graph a curve to see how the temperature affects the phenomena.\n"
   ]
  },
  {
   "cell_type": "code",
   "execution_count": 1,
   "metadata": {
    "colab": {
     "base_uri": "https://localhost:8080/",
     "height": 452
    },
    "id": "GOzR4c9p1Dlg",
    "outputId": "b2ec2d8e-f39a-426f-b695-c738895c2fd9"
   },
   "outputs": [
    {
     "data": {
      "image/png": "[encoded data removed]",
      "text/plain": [
       "<Figure size 640x480 with 1 Axes>"
      ]
     },
     "metadata": {},
     "output_type": "display_data"
    }
   ],
   "source": [
    "# @title Coding Example with Graph\n",
    "\n",
    "import numpy as np\n",
    "from matplotlib import pyplot as plt\n",
    "\n",
    "ys = 0 + np.random.randn(100)\n",
    "x = [x for x in range(len(ys))]\n",
    "\n",
    "plt.plot(x, ys, '-')\n",
    "plt.fill_between(x, ys, 195, where=(ys > 195),alpha=0.3)\n",
    "\n",
    "plt.title(\"Sample Visualization\")\n",
    "plt.show()"
   ]
  },
  {
   "cell_type": "markdown",
   "metadata": {
    "id": "zKlHmv0x0uhL"
   },
   "source": [
    "## **Simulation**\n",
    "\n",
    "It should be possible to call the simulation from nanohub and insert that here, however we need to bypass the credentials. As nanohub is free and open source, it should be possible to insert the simulation as html.\n",
    "\n",
    "\n",
    "**These are alternatives for including the simulation**\n",
    "## Possible simulations\n",
    "1. Link\n",
    "[Simulation Option Kronig Penney](https://nanohub.org/js_apps/kronig_penney.html)\n",
    "2. Embeded code (It is open source)\n",
    "We need client id  and client secret from nanohub source. (Or if it is possible to clone te simulation and create our own credentials)\n",
    "\n",
    "```python\n",
    "import nanohubremote as nr\n",
    "auth_data = {\n",
    "  'client_id': XXXXXXXX,\n",
    "  'client_secret': XXXXXXXX,\n",
    "  'grant_type': 'password',\n",
    "  'username': XXXXXXXX,\n",
    "  'password': XXXXXXXX\n",
    "}\n",
    "\n",
    "```\n",
    "```{note}\n",
    "here is a note ---\n",
    "```\n",
    "\n",
    "3. Go directly to simulator from notebook\n",
    "\n",
    "a. From Jupyter notebook\n",
    "https://nanohub.org/tools/jupyter70\n",
    "https://proxy.nanohub.org/weber/2357856/ilSjoDjwshlwoJRM/22/notebooks/ECESemiconductors/pnjunctionapp.ipynb"
   ]
  },
  {
   "cell_type": "markdown",
   "metadata": {
    "id": "uKkQhpHu_UCM"
   },
   "source": [
    "# **Author**"
   ]
  }
 ],
 "metadata": {
  "colab": {
   "provenance": []
  },
  "kernelspec": {
   "display_name": "Python 3",
   "name": "python3"
  },
  "language_info": {
   "codemirror_mode": {
    "name": "ipython",
    "version": 3
   },
   "file_extension": ".py",
   "mimetype": "text/x-python",
   "name": "python",
   "nbconvert_exporter": "python",
   "pygments_lexer": "ipython3",
   "version": "3.12.2"
  }
 },
 "nbformat": 4,
 "nbformat_minor": 0
}