{
 "cells": [
  {
   "cell_type": "markdown",
   "metadata": {},
   "source": [
    "# Worked example\n",
    "\n",
    "<p>Now go to <a href=\"https://nanohub.org/resources/36260\" target=\"_blank\" rel=\"noopener noreferrer\">NanoHub</a> to simulate a pn step junction doping profile and the resulting electrostatic variables in equilibrium. (a) energy band, (b) I-V profile, (c) Charge Density, (e) Electric Field, and (f) The Inputs you used.</p>\n",
    "\n",
    "Here is a video to show you how to register in nanoHub so you can use the PN Junction App.\n",
    "\n",
    "<iframe id=\"kaltura_player\" src=https://cdnapisec.kaltura.com/p/983291/sp/98329100/embedIframeJs/uiconf_id/29134031/partner_id/983291?iframeembed=true&playerId=kaltura_player&entry_id=1_kiokj3qn&flashvars[streamerType]=auto&amp;flashvars[localizationCode]=en&amp;flashvars[sideBarContainer.plugin]=true&amp;flashvars[sideBarContainer.position]=left&amp;flashvars[sideBarContainer.clickToClose]=true&amp;flashvars[chapters.plugin]=true&amp;flashvars[chapters.layout]=vertical&amp;flashvars[chapters.thumbnailRotator]=false&amp;flashvars[streamSelector.plugin]=true&amp;flashvars[EmbedPlayer.SpinnerTarget]=videoHolder&amp;flashvars[dualScreen.plugin]=true&amp;flashvars[Kaltura.addCrossoriginToIframe]=true&amp;&wid=1_ahivr22p width=\"608\" height=\"402\" allowfullscreen webkitallowfullscreen mozAllowFullScreen allow=\"autoplay *; fullscreen *; encrypted-media *\" sandbox=\"allow-downloads allow-forms allow-same-origin allow-scripts allow-top-navigation allow-pointer-lock allow-popups allow-modals allow-orientation-lock allow-popups-to-escape-sandbox allow-presentation allow-top-navigation-by-user-activation\" frameborder=\"0\" title=\"ECE20001_How to Use nanoHUB Simulator\"></iframe>\n",
    "\n",
    "\n",
    "For a given temperature and semiconductor, (11.23) allows us to compute the built-in voltage of a pn step junction from the doping concentrations\n",
    "of each side. For example, consider a silicon step junction at room temperature (300 K) with a donor concentration of 1 × 1016 cm−3 and an accepter concentration of 1 × 1016 cm−3. Plugging these values into (11.23) we have:\n",
    "\n",
    "$$V_{bi} = (0.0259V) \\ln{\\frac{10^{16} \\times 10^{16}}{(10^{10})^2}} = 0.7V \\tag{11.24}$$\n",
    "    \n",
    "   \n",
    "We have found the built-in voltage of this pn junction to be about 0.7 V which is a typical result.\n",
    "\n",
    "## Expected results in your simulations\n",
    "\n",
    "\n",
    "### (a) Energy Bands\n",
    "<img alt=\"Energy Bands, Energy in eV versus Position in micro m\" src=\"https://raw.githubusercontent.com/jorcristancho/EngineeringEducation/main/Figure%2011.3%20Eloctrostatics/a)%20Energy%20Bands.png\" />\n",
    "\n",
    "### (b) I-V Characteristics\n",
    "<img alt=\"Current Voltage characteristics, Current versus Gate voltage\" src=\"https://raw.githubusercontent.com/jorcristancho/EngineeringEducation/main/Figure%2011.3%20Eloctrostatics/b)%20I-V%20Characteristics.png\" />\n",
    "\n",
    "### (c) Charge density\n",
    "<img alt=\"Net Charge Density, Charge Density versus Position in micro m\" src=\"https://raw.githubusercontent.com/jorcristancho/EngineeringEducation/main/Figure%2011.3%20Eloctrostatics/c)%20Charge%20Density.png\" />\n",
    "\n",
    "### (d) Electric Potential\n",
    "<img alt=\"Potential in volts versus Position in micro m\" src=\"https://raw.githubusercontent.com/jorcristancho/EngineeringEducation/main/Figure%2011.3%20Eloctrostatics/d)%20Electric%20Potential.png\" />\n",
    "\n",
    "### (e) Electric Field\n",
    "<img alt=\"Electricstatic Field, Electric Field versus Position in micro m\" src=\"https://raw.githubusercontent.com/jorcristancho/EngineeringEducation/main/Figure%2011.3%20Eloctrostatics/e)%20Electric%20Field.png\" />\n",
    "\n",
    "### (f) Input parameters\n",
    "<img alt=\"Input parameters\" src=\"https://raw.githubusercontent.com/jorcristancho/EngineeringEducation/main/Figure%2011.3%20Eloctrostatics/f)%20Input%20parameters.png\" />\n",
    "\n",
    "\n",
    "----\n",
    "\n",
    "Congratulations! You have completed the first module of $pn$ junctions."
   ]
  }
 ],
 "metadata": {
  "language_info": {
   "codemirror_mode": {
    "name": "ipython",
    "version": 3
   },
   "file_extension": ".py",
   "mimetype": "text/x-python",
   "name": "python",
   "nbconvert_exporter": "python",
   "pygments_lexer": "ipython3",
   "version": "3.12.2"
  }
 },
 "nbformat": 4,
 "nbformat_minor": 2
}